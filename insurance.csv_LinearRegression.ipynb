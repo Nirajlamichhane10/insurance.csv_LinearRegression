{
  "nbformat": 4,
  "nbformat_minor": 0,
  "metadata": {
    "colab": {
      "name": "Regression Task 2.ipynb",
      "provenance": [],
      "collapsed_sections": []
    },
    "kernelspec": {
      "name": "python3",
      "display_name": "Python 3"
    },
    "language_info": {
      "name": "python"
    }
  },
  "cells": [
    {
      "cell_type": "markdown",
      "source": [
        "#Regression Task 2 : Insurance.csv\n",
        "#Name : Niraj Lamichhane\n",
        "#University ID: 2059514"
      ],
      "metadata": {
        "id": "PoYr4hJT-scN"
      }
    },
    {
      "cell_type": "markdown",
      "source": [
        "#1)  Data Understanding "
      ],
      "metadata": {
        "id": "nk4OkO2DeFCR"
      }
    },
    {
      "cell_type": "markdown",
      "source": [
        "\n",
        "I have used insurance.csv datasets for Regression Tasks. Where my datasets Contains 7 colums and 1338 Rows.From the insurance.csv datasets my dependent Variable is charges as the outcomes and contains other independent variables. My datasets clealy tells us that those smoker will have less bmi and more charges as compared to no smoker .\n",
        "The Columns of my daatsets are:\n",
        "\n",
        "\n",
        "1) age\n",
        "\n",
        "2)Sex\n",
        "\n",
        "3) bmi\n",
        "\n",
        "4) Children\n",
        "\n",
        "5) Smoker\n",
        "\n",
        "6) region\n",
        "\n",
        "7) charges"
      ],
      "metadata": {
        "id": "lYMWFr_s_OIH"
      }
    },
    {
      "cell_type": "code",
      "execution_count": 1,
      "metadata": {
        "id": "Dc9pHc1fSBbT"
      },
      "outputs": [],
      "source": [
        "#Necessary imports:\n",
        "import numpy as np\n",
        "import matplotlib.pyplot as plt\n",
        "import seaborn as sns\n",
        "import pandas as pd\n",
        "\n",
        "path_datareg=\"/content/drive/MyDrive/Regression task 2.csv\"                      # path setup from google drive \n",
        "\n",
        "datareg = pd.read_csv(path_datareg)                                              # reading csv file using pandas"
      ]
    },
    {
      "cell_type": "code",
      "source": [
        "datareg = pd.read_csv('/content/drive/MyDrive/Regression task 2.csv')\n",
        "datareg.info()                                                                    # info() will give all information about my datasets"
      ],
      "metadata": {
        "colab": {
          "base_uri": "https://localhost:8080/"
        },
        "id": "IqRSisCHTDcE",
        "outputId": "dd0d1091-1656-4108-f4a4-d27a8fa41331"
      },
      "execution_count": null,
      "outputs": [
        {
          "output_type": "stream",
          "name": "stdout",
          "text": [
            "<class 'pandas.core.frame.DataFrame'>\n",
            "RangeIndex: 1338 entries, 0 to 1337\n",
            "Data columns (total 7 columns):\n",
            " #   Column    Non-Null Count  Dtype  \n",
            "---  ------    --------------  -----  \n",
            " 0   age       1338 non-null   int64  \n",
            " 1   sex       1338 non-null   object \n",
            " 2   bmi       1338 non-null   float64\n",
            " 3   children  1338 non-null   int64  \n",
            " 4   smoker    1338 non-null   object \n",
            " 5   region    1338 non-null   object \n",
            " 6   charges   1338 non-null   float64\n",
            "dtypes: float64(2), int64(2), object(3)\n",
            "memory usage: 73.3+ KB\n"
          ]
        }
      ]
    },
    {
      "cell_type": "markdown",
      "source": [
        "datareg.info() will give us all the information about my datasets. where this function will tells us how many rows and colums i have used, null values used in this datsets, data type and many more. "
      ],
      "metadata": {
        "id": "7A0Hzsx8F4jz"
      }
    },
    {
      "cell_type": "code",
      "source": [
        "print(datareg.shape)                                             # This function will give us the information about no of rows and colums.\n",
        "datareg.head()                                                   # top 5 rows of my datasets at the starting "
      ],
      "metadata": {
        "colab": {
          "base_uri": "https://localhost:8080/",
          "height": 224
        },
        "id": "vAP5kqp6S22L",
        "outputId": "f4db4899-d42c-485c-d38a-db648bb4ce8a"
      },
      "execution_count": null,
      "outputs": [
        {
          "output_type": "stream",
          "name": "stdout",
          "text": [
            "(1338, 7)\n"
          ]
        },
        {
          "output_type": "execute_result",
          "data": {
            "text/html": [
              "\n",
              "  <div id=\"df-8d7f95a0-374a-4b47-8850-abcdef4baa25\">\n",
              "    <div class=\"colab-df-container\">\n",
              "      <div>\n",
              "<style scoped>\n",
              "    .dataframe tbody tr th:only-of-type {\n",
              "        vertical-align: middle;\n",
              "    }\n",
              "\n",
              "    .dataframe tbody tr th {\n",
              "        vertical-align: top;\n",
              "    }\n",
              "\n",
              "    .dataframe thead th {\n",
              "        text-align: right;\n",
              "    }\n",
              "</style>\n",
              "<table border=\"1\" class=\"dataframe\">\n",
              "  <thead>\n",
              "    <tr style=\"text-align: right;\">\n",
              "      <th></th>\n",
              "      <th>age</th>\n",
              "      <th>sex</th>\n",
              "      <th>bmi</th>\n",
              "      <th>children</th>\n",
              "      <th>smoker</th>\n",
              "      <th>region</th>\n",
              "      <th>charges</th>\n",
              "    </tr>\n",
              "  </thead>\n",
              "  <tbody>\n",
              "    <tr>\n",
              "      <th>0</th>\n",
              "      <td>19</td>\n",
              "      <td>female</td>\n",
              "      <td>27.900</td>\n",
              "      <td>0</td>\n",
              "      <td>yes</td>\n",
              "      <td>southwest</td>\n",
              "      <td>16884.92400</td>\n",
              "    </tr>\n",
              "    <tr>\n",
              "      <th>1</th>\n",
              "      <td>18</td>\n",
              "      <td>male</td>\n",
              "      <td>33.770</td>\n",
              "      <td>1</td>\n",
              "      <td>no</td>\n",
              "      <td>southeast</td>\n",
              "      <td>1725.55230</td>\n",
              "    </tr>\n",
              "    <tr>\n",
              "      <th>2</th>\n",
              "      <td>28</td>\n",
              "      <td>male</td>\n",
              "      <td>33.000</td>\n",
              "      <td>3</td>\n",
              "      <td>no</td>\n",
              "      <td>southeast</td>\n",
              "      <td>4449.46200</td>\n",
              "    </tr>\n",
              "    <tr>\n",
              "      <th>3</th>\n",
              "      <td>33</td>\n",
              "      <td>male</td>\n",
              "      <td>22.705</td>\n",
              "      <td>0</td>\n",
              "      <td>no</td>\n",
              "      <td>northwest</td>\n",
              "      <td>21984.47061</td>\n",
              "    </tr>\n",
              "    <tr>\n",
              "      <th>4</th>\n",
              "      <td>32</td>\n",
              "      <td>male</td>\n",
              "      <td>28.880</td>\n",
              "      <td>0</td>\n",
              "      <td>no</td>\n",
              "      <td>northwest</td>\n",
              "      <td>3866.85520</td>\n",
              "    </tr>\n",
              "  </tbody>\n",
              "</table>\n",
              "</div>\n",
              "      <button class=\"colab-df-convert\" onclick=\"convertToInteractive('df-8d7f95a0-374a-4b47-8850-abcdef4baa25')\"\n",
              "              title=\"Convert this dataframe to an interactive table.\"\n",
              "              style=\"display:none;\">\n",
              "        \n",
              "  <svg xmlns=\"http://www.w3.org/2000/svg\" height=\"24px\"viewBox=\"0 0 24 24\"\n",
              "       width=\"24px\">\n",
              "    <path d=\"M0 0h24v24H0V0z\" fill=\"none\"/>\n",
              "    <path d=\"M18.56 5.44l.94 2.06.94-2.06 2.06-.94-2.06-.94-.94-2.06-.94 2.06-2.06.94zm-11 1L8.5 8.5l.94-2.06 2.06-.94-2.06-.94L8.5 2.5l-.94 2.06-2.06.94zm10 10l.94 2.06.94-2.06 2.06-.94-2.06-.94-.94-2.06-.94 2.06-2.06.94z\"/><path d=\"M17.41 7.96l-1.37-1.37c-.4-.4-.92-.59-1.43-.59-.52 0-1.04.2-1.43.59L10.3 9.45l-7.72 7.72c-.78.78-.78 2.05 0 2.83L4 21.41c.39.39.9.59 1.41.59.51 0 1.02-.2 1.41-.59l7.78-7.78 2.81-2.81c.8-.78.8-2.07 0-2.86zM5.41 20L4 18.59l7.72-7.72 1.47 1.35L5.41 20z\"/>\n",
              "  </svg>\n",
              "      </button>\n",
              "      \n",
              "  <style>\n",
              "    .colab-df-container {\n",
              "      display:flex;\n",
              "      flex-wrap:wrap;\n",
              "      gap: 12px;\n",
              "    }\n",
              "\n",
              "    .colab-df-convert {\n",
              "      background-color: #E8F0FE;\n",
              "      border: none;\n",
              "      border-radius: 50%;\n",
              "      cursor: pointer;\n",
              "      display: none;\n",
              "      fill: #1967D2;\n",
              "      height: 32px;\n",
              "      padding: 0 0 0 0;\n",
              "      width: 32px;\n",
              "    }\n",
              "\n",
              "    .colab-df-convert:hover {\n",
              "      background-color: #E2EBFA;\n",
              "      box-shadow: 0px 1px 2px rgba(60, 64, 67, 0.3), 0px 1px 3px 1px rgba(60, 64, 67, 0.15);\n",
              "      fill: #174EA6;\n",
              "    }\n",
              "\n",
              "    [theme=dark] .colab-df-convert {\n",
              "      background-color: #3B4455;\n",
              "      fill: #D2E3FC;\n",
              "    }\n",
              "\n",
              "    [theme=dark] .colab-df-convert:hover {\n",
              "      background-color: #434B5C;\n",
              "      box-shadow: 0px 1px 3px 1px rgba(0, 0, 0, 0.15);\n",
              "      filter: drop-shadow(0px 1px 2px rgba(0, 0, 0, 0.3));\n",
              "      fill: #FFFFFF;\n",
              "    }\n",
              "  </style>\n",
              "\n",
              "      <script>\n",
              "        const buttonEl =\n",
              "          document.querySelector('#df-8d7f95a0-374a-4b47-8850-abcdef4baa25 button.colab-df-convert');\n",
              "        buttonEl.style.display =\n",
              "          google.colab.kernel.accessAllowed ? 'block' : 'none';\n",
              "\n",
              "        async function convertToInteractive(key) {\n",
              "          const element = document.querySelector('#df-8d7f95a0-374a-4b47-8850-abcdef4baa25');\n",
              "          const dataTable =\n",
              "            await google.colab.kernel.invokeFunction('convertToInteractive',\n",
              "                                                     [key], {});\n",
              "          if (!dataTable) return;\n",
              "\n",
              "          const docLinkHtml = 'Like what you see? Visit the ' +\n",
              "            '<a target=\"_blank\" href=https://colab.research.google.com/notebooks/data_table.ipynb>data table notebook</a>'\n",
              "            + ' to learn more about interactive tables.';\n",
              "          element.innerHTML = '';\n",
              "          dataTable['output_type'] = 'display_data';\n",
              "          await google.colab.output.renderOutput(dataTable, element);\n",
              "          const docLink = document.createElement('div');\n",
              "          docLink.innerHTML = docLinkHtml;\n",
              "          element.appendChild(docLink);\n",
              "        }\n",
              "      </script>\n",
              "    </div>\n",
              "  </div>\n",
              "  "
            ],
            "text/plain": [
              "   age     sex     bmi  children smoker     region      charges\n",
              "0   19  female  27.900         0    yes  southwest  16884.92400\n",
              "1   18    male  33.770         1     no  southeast   1725.55230\n",
              "2   28    male  33.000         3     no  southeast   4449.46200\n",
              "3   33    male  22.705         0     no  northwest  21984.47061\n",
              "4   32    male  28.880         0     no  northwest   3866.85520"
            ]
          },
          "metadata": {},
          "execution_count": 18
        }
      ]
    },
    {
      "cell_type": "markdown",
      "source": [
        "datareg.head() will give us the information about the top 5 rows used in my datasets with its value."
      ],
      "metadata": {
        "id": "yBt4foWsIrv2"
      }
    },
    {
      "cell_type": "code",
      "source": [
        "datareg.columns               # this function will shows us all the columns i have used in my datasets"
      ],
      "metadata": {
        "colab": {
          "base_uri": "https://localhost:8080/"
        },
        "id": "CB2J0RqKE_8i",
        "outputId": "32a1fb50-d008-4e24-e924-1198914a973e"
      },
      "execution_count": null,
      "outputs": [
        {
          "output_type": "execute_result",
          "data": {
            "text/plain": [
              "Index(['age', 'sex', 'bmi', 'children', 'smoker', 'region', 'charges'], dtype='object')"
            ]
          },
          "metadata": {},
          "execution_count": 19
        }
      ]
    },
    {
      "cell_type": "markdown",
      "source": [
        "datareg.columns() will give informations about the no of colums i have used in my datasets."
      ],
      "metadata": {
        "id": "9IfSd_n6JAUn"
      }
    },
    {
      "cell_type": "code",
      "source": [
        "datareg.tail()                 # top 5 rows of my datasets  at the ending "
      ],
      "metadata": {
        "colab": {
          "base_uri": "https://localhost:8080/",
          "height": 206
        },
        "id": "EV14O23qF0CB",
        "outputId": "9eba0410-c9bd-45d1-bdc8-7828b618ae00"
      },
      "execution_count": null,
      "outputs": [
        {
          "output_type": "execute_result",
          "data": {
            "text/html": [
              "\n",
              "  <div id=\"df-09d306a1-a072-44a0-ab05-58979153f6be\">\n",
              "    <div class=\"colab-df-container\">\n",
              "      <div>\n",
              "<style scoped>\n",
              "    .dataframe tbody tr th:only-of-type {\n",
              "        vertical-align: middle;\n",
              "    }\n",
              "\n",
              "    .dataframe tbody tr th {\n",
              "        vertical-align: top;\n",
              "    }\n",
              "\n",
              "    .dataframe thead th {\n",
              "        text-align: right;\n",
              "    }\n",
              "</style>\n",
              "<table border=\"1\" class=\"dataframe\">\n",
              "  <thead>\n",
              "    <tr style=\"text-align: right;\">\n",
              "      <th></th>\n",
              "      <th>age</th>\n",
              "      <th>sex</th>\n",
              "      <th>bmi</th>\n",
              "      <th>children</th>\n",
              "      <th>smoker</th>\n",
              "      <th>region</th>\n",
              "      <th>charges</th>\n",
              "    </tr>\n",
              "  </thead>\n",
              "  <tbody>\n",
              "    <tr>\n",
              "      <th>1333</th>\n",
              "      <td>50</td>\n",
              "      <td>male</td>\n",
              "      <td>30.97</td>\n",
              "      <td>3</td>\n",
              "      <td>no</td>\n",
              "      <td>northwest</td>\n",
              "      <td>10600.5483</td>\n",
              "    </tr>\n",
              "    <tr>\n",
              "      <th>1334</th>\n",
              "      <td>18</td>\n",
              "      <td>female</td>\n",
              "      <td>31.92</td>\n",
              "      <td>0</td>\n",
              "      <td>no</td>\n",
              "      <td>northeast</td>\n",
              "      <td>2205.9808</td>\n",
              "    </tr>\n",
              "    <tr>\n",
              "      <th>1335</th>\n",
              "      <td>18</td>\n",
              "      <td>female</td>\n",
              "      <td>36.85</td>\n",
              "      <td>0</td>\n",
              "      <td>no</td>\n",
              "      <td>southeast</td>\n",
              "      <td>1629.8335</td>\n",
              "    </tr>\n",
              "    <tr>\n",
              "      <th>1336</th>\n",
              "      <td>21</td>\n",
              "      <td>female</td>\n",
              "      <td>25.80</td>\n",
              "      <td>0</td>\n",
              "      <td>no</td>\n",
              "      <td>southwest</td>\n",
              "      <td>2007.9450</td>\n",
              "    </tr>\n",
              "    <tr>\n",
              "      <th>1337</th>\n",
              "      <td>61</td>\n",
              "      <td>female</td>\n",
              "      <td>29.07</td>\n",
              "      <td>0</td>\n",
              "      <td>yes</td>\n",
              "      <td>northwest</td>\n",
              "      <td>29141.3603</td>\n",
              "    </tr>\n",
              "  </tbody>\n",
              "</table>\n",
              "</div>\n",
              "      <button class=\"colab-df-convert\" onclick=\"convertToInteractive('df-09d306a1-a072-44a0-ab05-58979153f6be')\"\n",
              "              title=\"Convert this dataframe to an interactive table.\"\n",
              "              style=\"display:none;\">\n",
              "        \n",
              "  <svg xmlns=\"http://www.w3.org/2000/svg\" height=\"24px\"viewBox=\"0 0 24 24\"\n",
              "       width=\"24px\">\n",
              "    <path d=\"M0 0h24v24H0V0z\" fill=\"none\"/>\n",
              "    <path d=\"M18.56 5.44l.94 2.06.94-2.06 2.06-.94-2.06-.94-.94-2.06-.94 2.06-2.06.94zm-11 1L8.5 8.5l.94-2.06 2.06-.94-2.06-.94L8.5 2.5l-.94 2.06-2.06.94zm10 10l.94 2.06.94-2.06 2.06-.94-2.06-.94-.94-2.06-.94 2.06-2.06.94z\"/><path d=\"M17.41 7.96l-1.37-1.37c-.4-.4-.92-.59-1.43-.59-.52 0-1.04.2-1.43.59L10.3 9.45l-7.72 7.72c-.78.78-.78 2.05 0 2.83L4 21.41c.39.39.9.59 1.41.59.51 0 1.02-.2 1.41-.59l7.78-7.78 2.81-2.81c.8-.78.8-2.07 0-2.86zM5.41 20L4 18.59l7.72-7.72 1.47 1.35L5.41 20z\"/>\n",
              "  </svg>\n",
              "      </button>\n",
              "      \n",
              "  <style>\n",
              "    .colab-df-container {\n",
              "      display:flex;\n",
              "      flex-wrap:wrap;\n",
              "      gap: 12px;\n",
              "    }\n",
              "\n",
              "    .colab-df-convert {\n",
              "      background-color: #E8F0FE;\n",
              "      border: none;\n",
              "      border-radius: 50%;\n",
              "      cursor: pointer;\n",
              "      display: none;\n",
              "      fill: #1967D2;\n",
              "      height: 32px;\n",
              "      padding: 0 0 0 0;\n",
              "      width: 32px;\n",
              "    }\n",
              "\n",
              "    .colab-df-convert:hover {\n",
              "      background-color: #E2EBFA;\n",
              "      box-shadow: 0px 1px 2px rgba(60, 64, 67, 0.3), 0px 1px 3px 1px rgba(60, 64, 67, 0.15);\n",
              "      fill: #174EA6;\n",
              "    }\n",
              "\n",
              "    [theme=dark] .colab-df-convert {\n",
              "      background-color: #3B4455;\n",
              "      fill: #D2E3FC;\n",
              "    }\n",
              "\n",
              "    [theme=dark] .colab-df-convert:hover {\n",
              "      background-color: #434B5C;\n",
              "      box-shadow: 0px 1px 3px 1px rgba(0, 0, 0, 0.15);\n",
              "      filter: drop-shadow(0px 1px 2px rgba(0, 0, 0, 0.3));\n",
              "      fill: #FFFFFF;\n",
              "    }\n",
              "  </style>\n",
              "\n",
              "      <script>\n",
              "        const buttonEl =\n",
              "          document.querySelector('#df-09d306a1-a072-44a0-ab05-58979153f6be button.colab-df-convert');\n",
              "        buttonEl.style.display =\n",
              "          google.colab.kernel.accessAllowed ? 'block' : 'none';\n",
              "\n",
              "        async function convertToInteractive(key) {\n",
              "          const element = document.querySelector('#df-09d306a1-a072-44a0-ab05-58979153f6be');\n",
              "          const dataTable =\n",
              "            await google.colab.kernel.invokeFunction('convertToInteractive',\n",
              "                                                     [key], {});\n",
              "          if (!dataTable) return;\n",
              "\n",
              "          const docLinkHtml = 'Like what you see? Visit the ' +\n",
              "            '<a target=\"_blank\" href=https://colab.research.google.com/notebooks/data_table.ipynb>data table notebook</a>'\n",
              "            + ' to learn more about interactive tables.';\n",
              "          element.innerHTML = '';\n",
              "          dataTable['output_type'] = 'display_data';\n",
              "          await google.colab.output.renderOutput(dataTable, element);\n",
              "          const docLink = document.createElement('div');\n",
              "          docLink.innerHTML = docLinkHtml;\n",
              "          element.appendChild(docLink);\n",
              "        }\n",
              "      </script>\n",
              "    </div>\n",
              "  </div>\n",
              "  "
            ],
            "text/plain": [
              "      age     sex    bmi  children smoker     region     charges\n",
              "1333   50    male  30.97         3     no  northwest  10600.5483\n",
              "1334   18  female  31.92         0     no  northeast   2205.9808\n",
              "1335   18  female  36.85         0     no  southeast   1629.8335\n",
              "1336   21  female  25.80         0     no  southwest   2007.9450\n",
              "1337   61  female  29.07         0    yes  northwest  29141.3603"
            ]
          },
          "metadata": {},
          "execution_count": 20
        }
      ]
    },
    {
      "cell_type": "markdown",
      "source": [
        "datareg.tail() will give us the information about the ending  5 rows used in my datasets with its value."
      ],
      "metadata": {
        "id": "g-kaREsKI3r8"
      }
    },
    {
      "cell_type": "code",
      "source": [
        "datareg.isnull()                                        # isnull() is used to check the data missing  or not "
      ],
      "metadata": {
        "colab": {
          "base_uri": "https://localhost:8080/",
          "height": 423
        },
        "id": "vyFsF0lrH2wm",
        "outputId": "1b3877bb-577b-4e74-a355-22c20515cfbb"
      },
      "execution_count": null,
      "outputs": [
        {
          "output_type": "execute_result",
          "data": {
            "text/html": [
              "\n",
              "  <div id=\"df-9a76cd33-7bcf-4f08-8224-b1aa0a43ba42\">\n",
              "    <div class=\"colab-df-container\">\n",
              "      <div>\n",
              "<style scoped>\n",
              "    .dataframe tbody tr th:only-of-type {\n",
              "        vertical-align: middle;\n",
              "    }\n",
              "\n",
              "    .dataframe tbody tr th {\n",
              "        vertical-align: top;\n",
              "    }\n",
              "\n",
              "    .dataframe thead th {\n",
              "        text-align: right;\n",
              "    }\n",
              "</style>\n",
              "<table border=\"1\" class=\"dataframe\">\n",
              "  <thead>\n",
              "    <tr style=\"text-align: right;\">\n",
              "      <th></th>\n",
              "      <th>age</th>\n",
              "      <th>sex</th>\n",
              "      <th>bmi</th>\n",
              "      <th>children</th>\n",
              "      <th>smoker</th>\n",
              "      <th>region</th>\n",
              "      <th>charges</th>\n",
              "    </tr>\n",
              "  </thead>\n",
              "  <tbody>\n",
              "    <tr>\n",
              "      <th>0</th>\n",
              "      <td>False</td>\n",
              "      <td>False</td>\n",
              "      <td>False</td>\n",
              "      <td>False</td>\n",
              "      <td>False</td>\n",
              "      <td>False</td>\n",
              "      <td>False</td>\n",
              "    </tr>\n",
              "    <tr>\n",
              "      <th>1</th>\n",
              "      <td>False</td>\n",
              "      <td>False</td>\n",
              "      <td>False</td>\n",
              "      <td>False</td>\n",
              "      <td>False</td>\n",
              "      <td>False</td>\n",
              "      <td>False</td>\n",
              "    </tr>\n",
              "    <tr>\n",
              "      <th>2</th>\n",
              "      <td>False</td>\n",
              "      <td>False</td>\n",
              "      <td>False</td>\n",
              "      <td>False</td>\n",
              "      <td>False</td>\n",
              "      <td>False</td>\n",
              "      <td>False</td>\n",
              "    </tr>\n",
              "    <tr>\n",
              "      <th>3</th>\n",
              "      <td>False</td>\n",
              "      <td>False</td>\n",
              "      <td>False</td>\n",
              "      <td>False</td>\n",
              "      <td>False</td>\n",
              "      <td>False</td>\n",
              "      <td>False</td>\n",
              "    </tr>\n",
              "    <tr>\n",
              "      <th>4</th>\n",
              "      <td>False</td>\n",
              "      <td>False</td>\n",
              "      <td>False</td>\n",
              "      <td>False</td>\n",
              "      <td>False</td>\n",
              "      <td>False</td>\n",
              "      <td>False</td>\n",
              "    </tr>\n",
              "    <tr>\n",
              "      <th>...</th>\n",
              "      <td>...</td>\n",
              "      <td>...</td>\n",
              "      <td>...</td>\n",
              "      <td>...</td>\n",
              "      <td>...</td>\n",
              "      <td>...</td>\n",
              "      <td>...</td>\n",
              "    </tr>\n",
              "    <tr>\n",
              "      <th>1333</th>\n",
              "      <td>False</td>\n",
              "      <td>False</td>\n",
              "      <td>False</td>\n",
              "      <td>False</td>\n",
              "      <td>False</td>\n",
              "      <td>False</td>\n",
              "      <td>False</td>\n",
              "    </tr>\n",
              "    <tr>\n",
              "      <th>1334</th>\n",
              "      <td>False</td>\n",
              "      <td>False</td>\n",
              "      <td>False</td>\n",
              "      <td>False</td>\n",
              "      <td>False</td>\n",
              "      <td>False</td>\n",
              "      <td>False</td>\n",
              "    </tr>\n",
              "    <tr>\n",
              "      <th>1335</th>\n",
              "      <td>False</td>\n",
              "      <td>False</td>\n",
              "      <td>False</td>\n",
              "      <td>False</td>\n",
              "      <td>False</td>\n",
              "      <td>False</td>\n",
              "      <td>False</td>\n",
              "    </tr>\n",
              "    <tr>\n",
              "      <th>1336</th>\n",
              "      <td>False</td>\n",
              "      <td>False</td>\n",
              "      <td>False</td>\n",
              "      <td>False</td>\n",
              "      <td>False</td>\n",
              "      <td>False</td>\n",
              "      <td>False</td>\n",
              "    </tr>\n",
              "    <tr>\n",
              "      <th>1337</th>\n",
              "      <td>False</td>\n",
              "      <td>False</td>\n",
              "      <td>False</td>\n",
              "      <td>False</td>\n",
              "      <td>False</td>\n",
              "      <td>False</td>\n",
              "      <td>False</td>\n",
              "    </tr>\n",
              "  </tbody>\n",
              "</table>\n",
              "<p>1338 rows × 7 columns</p>\n",
              "</div>\n",
              "      <button class=\"colab-df-convert\" onclick=\"convertToInteractive('df-9a76cd33-7bcf-4f08-8224-b1aa0a43ba42')\"\n",
              "              title=\"Convert this dataframe to an interactive table.\"\n",
              "              style=\"display:none;\">\n",
              "        \n",
              "  <svg xmlns=\"http://www.w3.org/2000/svg\" height=\"24px\"viewBox=\"0 0 24 24\"\n",
              "       width=\"24px\">\n",
              "    <path d=\"M0 0h24v24H0V0z\" fill=\"none\"/>\n",
              "    <path d=\"M18.56 5.44l.94 2.06.94-2.06 2.06-.94-2.06-.94-.94-2.06-.94 2.06-2.06.94zm-11 1L8.5 8.5l.94-2.06 2.06-.94-2.06-.94L8.5 2.5l-.94 2.06-2.06.94zm10 10l.94 2.06.94-2.06 2.06-.94-2.06-.94-.94-2.06-.94 2.06-2.06.94z\"/><path d=\"M17.41 7.96l-1.37-1.37c-.4-.4-.92-.59-1.43-.59-.52 0-1.04.2-1.43.59L10.3 9.45l-7.72 7.72c-.78.78-.78 2.05 0 2.83L4 21.41c.39.39.9.59 1.41.59.51 0 1.02-.2 1.41-.59l7.78-7.78 2.81-2.81c.8-.78.8-2.07 0-2.86zM5.41 20L4 18.59l7.72-7.72 1.47 1.35L5.41 20z\"/>\n",
              "  </svg>\n",
              "      </button>\n",
              "      \n",
              "  <style>\n",
              "    .colab-df-container {\n",
              "      display:flex;\n",
              "      flex-wrap:wrap;\n",
              "      gap: 12px;\n",
              "    }\n",
              "\n",
              "    .colab-df-convert {\n",
              "      background-color: #E8F0FE;\n",
              "      border: none;\n",
              "      border-radius: 50%;\n",
              "      cursor: pointer;\n",
              "      display: none;\n",
              "      fill: #1967D2;\n",
              "      height: 32px;\n",
              "      padding: 0 0 0 0;\n",
              "      width: 32px;\n",
              "    }\n",
              "\n",
              "    .colab-df-convert:hover {\n",
              "      background-color: #E2EBFA;\n",
              "      box-shadow: 0px 1px 2px rgba(60, 64, 67, 0.3), 0px 1px 3px 1px rgba(60, 64, 67, 0.15);\n",
              "      fill: #174EA6;\n",
              "    }\n",
              "\n",
              "    [theme=dark] .colab-df-convert {\n",
              "      background-color: #3B4455;\n",
              "      fill: #D2E3FC;\n",
              "    }\n",
              "\n",
              "    [theme=dark] .colab-df-convert:hover {\n",
              "      background-color: #434B5C;\n",
              "      box-shadow: 0px 1px 3px 1px rgba(0, 0, 0, 0.15);\n",
              "      filter: drop-shadow(0px 1px 2px rgba(0, 0, 0, 0.3));\n",
              "      fill: #FFFFFF;\n",
              "    }\n",
              "  </style>\n",
              "\n",
              "      <script>\n",
              "        const buttonEl =\n",
              "          document.querySelector('#df-9a76cd33-7bcf-4f08-8224-b1aa0a43ba42 button.colab-df-convert');\n",
              "        buttonEl.style.display =\n",
              "          google.colab.kernel.accessAllowed ? 'block' : 'none';\n",
              "\n",
              "        async function convertToInteractive(key) {\n",
              "          const element = document.querySelector('#df-9a76cd33-7bcf-4f08-8224-b1aa0a43ba42');\n",
              "          const dataTable =\n",
              "            await google.colab.kernel.invokeFunction('convertToInteractive',\n",
              "                                                     [key], {});\n",
              "          if (!dataTable) return;\n",
              "\n",
              "          const docLinkHtml = 'Like what you see? Visit the ' +\n",
              "            '<a target=\"_blank\" href=https://colab.research.google.com/notebooks/data_table.ipynb>data table notebook</a>'\n",
              "            + ' to learn more about interactive tables.';\n",
              "          element.innerHTML = '';\n",
              "          dataTable['output_type'] = 'display_data';\n",
              "          await google.colab.output.renderOutput(dataTable, element);\n",
              "          const docLink = document.createElement('div');\n",
              "          docLink.innerHTML = docLinkHtml;\n",
              "          element.appendChild(docLink);\n",
              "        }\n",
              "      </script>\n",
              "    </div>\n",
              "  </div>\n",
              "  "
            ],
            "text/plain": [
              "        age    sex    bmi  children  smoker  region  charges\n",
              "0     False  False  False     False   False   False    False\n",
              "1     False  False  False     False   False   False    False\n",
              "2     False  False  False     False   False   False    False\n",
              "3     False  False  False     False   False   False    False\n",
              "4     False  False  False     False   False   False    False\n",
              "...     ...    ...    ...       ...     ...     ...      ...\n",
              "1333  False  False  False     False   False   False    False\n",
              "1334  False  False  False     False   False   False    False\n",
              "1335  False  False  False     False   False   False    False\n",
              "1336  False  False  False     False   False   False    False\n",
              "1337  False  False  False     False   False   False    False\n",
              "\n",
              "[1338 rows x 7 columns]"
            ]
          },
          "metadata": {},
          "execution_count": 21
        }
      ]
    },
    {
      "cell_type": "markdown",
      "source": [
        "datareg.isnull() function detect missing values in the given series object. It return a boolean same-sized object indicating if the values are NA. Missing values gets mapped to True and non-missing value gets mapped to False. which means there is no missing values in my datasets."
      ],
      "metadata": {
        "id": "6skciI_nJNG2"
      }
    },
    {
      "cell_type": "code",
      "source": [
        "datareg['smoker'] = datareg[\"smoker\"].map({'yes':1,'no':0})   #this is used to check i have my datasets conatining yes or no values "
      ],
      "metadata": {
        "id": "RRmVjYF1Le-z"
      },
      "execution_count": null,
      "outputs": []
    },
    {
      "cell_type": "code",
      "source": [
        "datareg['smoker']"
      ],
      "metadata": {
        "colab": {
          "base_uri": "https://localhost:8080/"
        },
        "id": "XHPKw2ajLrEr",
        "outputId": "4d77ed4f-a130-4a5f-a8a1-0a0ce7d721af"
      },
      "execution_count": null,
      "outputs": [
        {
          "output_type": "execute_result",
          "data": {
            "text/plain": [
              "0       1\n",
              "1       0\n",
              "2       0\n",
              "3       0\n",
              "4       0\n",
              "       ..\n",
              "1333    0\n",
              "1334    0\n",
              "1335    0\n",
              "1336    0\n",
              "1337    1\n",
              "Name: smoker, Length: 1338, dtype: int64"
            ]
          },
          "metadata": {},
          "execution_count": 23
        }
      ]
    },
    {
      "cell_type": "markdown",
      "source": [
        "here i have map the datasets of smoker conating yes and no values along with the number of length and datatype as well."
      ],
      "metadata": {
        "id": "6io7dBvXMAXd"
      }
    },
    {
      "cell_type": "code",
      "source": [
        "datareg[datareg.isnull()].count() # checking missing values"
      ],
      "metadata": {
        "colab": {
          "base_uri": "https://localhost:8080/"
        },
        "id": "sdrXcxG0TgLi",
        "outputId": "549ffbf4-22cb-432d-c44f-5233255f7119"
      },
      "execution_count": null,
      "outputs": [
        {
          "output_type": "execute_result",
          "data": {
            "text/plain": [
              "age         0\n",
              "sex         0\n",
              "bmi         0\n",
              "children    0\n",
              "smoker      0\n",
              "region      0\n",
              "charges     0\n",
              "dtype: int64"
            ]
          },
          "metadata": {},
          "execution_count": 25
        }
      ]
    },
    {
      "cell_type": "markdown",
      "source": [
        "this function will check if there is any value missing or not from my datasets."
      ],
      "metadata": {
        "id": "MFkSROR-Tmb3"
      }
    },
    {
      "cell_type": "markdown",
      "source": [
        "# 2) Data Analysis \n",
        "# Graphical Representataion of different datasets"
      ],
      "metadata": {
        "id": "JQwoI7Z5H0hR"
      }
    },
    {
      "cell_type": "code",
      "source": [
        "datareg['age'].hist()                                          #hist() Function. The hist() function in pyplot module of matplotlib library is used to plot a histogram"
      ],
      "metadata": {
        "colab": {
          "base_uri": "https://localhost:8080/",
          "height": 284
        },
        "id": "r_gleRrwM4u-",
        "outputId": "8541a9bd-8f8d-4858-89b1-d4d5da278595"
      },
      "execution_count": 2,
      "outputs": [
        {
          "output_type": "execute_result",
          "data": {
            "text/plain": [
              "<matplotlib.axes._subplots.AxesSubplot at 0x7f3c732b63d0>"
            ]
          },
          "metadata": {},
          "execution_count": 2
        },
        {
          "output_type": "display_data",
          "data": {
            "image/png": "[encoded data removed]",
            "text/plain": [
              "<Figure size 432x288 with 1 Axes>"
            ]
          },
          "metadata": {
            "needs_background": "light"
          }
        }
      ]
    },
    {
      "cell_type": "markdown",
      "source": [
        "This is a histogram of age i have used in my datasets using matplotlib library. which shows the data of age group vary from each other in the histogram.  where the age group of 20 are more than other age group used in my datasets.\n",
        "\n"
      ],
      "metadata": {
        "id": "4aIu1ITPN4CY"
      }
    },
    {
      "cell_type": "code",
      "source": [
        "datareg['sex'].hist()   "
      ],
      "metadata": {
        "colab": {
          "base_uri": "https://localhost:8080/",
          "height": 284
        },
        "id": "6WMgAXvJk1l-",
        "outputId": "b33403e7-fbc0-4d1a-fa53-c2b38aa1809a"
      },
      "execution_count": 4,
      "outputs": [
        {
          "output_type": "execute_result",
          "data": {
            "text/plain": [
              "<matplotlib.axes._subplots.AxesSubplot at 0x7f3c72b60450>"
            ]
          },
          "metadata": {},
          "execution_count": 4
        },
        {
          "output_type": "display_data",
          "data": {
            "image/png": "[encoded data removed]",
            "text/plain": [
              "<Figure size 432x288 with 1 Axes>"
            ]
          },
          "metadata": {
            "needs_background": "light"
          }
        }
      ]
    },
    {
      "cell_type": "markdown",
      "source": [
        "This is a Histogram of sex columns i have used in this datasets. from the above histogram we can clearly see that the number of male and female used in my datasets are similarly similar but the male has a little bit more number than female."
      ],
      "metadata": {
        "id": "E1qE9wHImX9X"
      }
    },
    {
      "cell_type": "code",
      "source": [
        "datareg['bmi'].hist()   "
      ],
      "metadata": {
        "colab": {
          "base_uri": "https://localhost:8080/",
          "height": 284
        },
        "id": "V6H4QUdcOiAb",
        "outputId": "ae5226ba-05d4-4618-f61e-a64bebd993a0"
      },
      "execution_count": 5,
      "outputs": [
        {
          "output_type": "execute_result",
          "data": {
            "text/plain": [
              "<matplotlib.axes._subplots.AxesSubplot at 0x7f3c72adc510>"
            ]
          },
          "metadata": {},
          "execution_count": 5
        },
        {
          "output_type": "display_data",
          "data": {
            "image/png": "[encoded data removed]",
            "text/plain": [
              "<Figure size 432x288 with 1 Axes>"
            ]
          },
          "metadata": {
            "needs_background": "light"
          }
        }
      ]
    },
    {
      "cell_type": "markdown",
      "source": [
        "This is a histogram of bmi i have used in my datasets using matplotlib library. Which shows the data of bmi varies from each other where the data range from 20-25 has the greatest bmi rate and 50 has the lowest bmi rate."
      ],
      "metadata": {
        "id": "lGOMSP0QPTB1"
      }
    },
    {
      "cell_type": "code",
      "source": [
        "datareg['children'].hist()   "
      ],
      "metadata": {
        "colab": {
          "base_uri": "https://localhost:8080/",
          "height": 286
        },
        "id": "jmX7SpjkOyB7",
        "outputId": "1d202334-a87d-49a9-9405-eea50828c8a4"
      },
      "execution_count": 6,
      "outputs": [
        {
          "output_type": "execute_result",
          "data": {
            "text/plain": [
              "<matplotlib.axes._subplots.AxesSubplot at 0x7f3c72a7bd10>"
            ]
          },
          "metadata": {},
          "execution_count": 6
        },
        {
          "output_type": "display_data",
          "data": {
            "image/png": "[encoded data removed]",
            "text/plain": [
              "<Figure size 432x288 with 1 Axes>"
            ]
          },
          "metadata": {
            "needs_background": "light"
          }
        }
      ]
    },
    {
      "cell_type": "markdown",
      "source": [
        "This is a histogram of children i have used in my datasets using matplotlib library which shows the data of childrens used in this datasets ."
      ],
      "metadata": {
        "id": "JAhe0_7gPXTV"
      }
    },
    {
      "cell_type": "code",
      "source": [
        "datareg['charges'].hist()   "
      ],
      "metadata": {
        "colab": {
          "base_uri": "https://localhost:8080/",
          "height": 284
        },
        "id": "8XbWG6qYPKUq",
        "outputId": "8daaff4d-c456-48a8-b355-8bd84f554809"
      },
      "execution_count": 7,
      "outputs": [
        {
          "output_type": "execute_result",
          "data": {
            "text/plain": [
              "<matplotlib.axes._subplots.AxesSubplot at 0x7f3c72a090d0>"
            ]
          },
          "metadata": {},
          "execution_count": 7
        },
        {
          "output_type": "display_data",
          "data": {
            "image/png": "[encoded data removed]",
            "text/plain": [
              "<Figure size 432x288 with 1 Axes>"
            ]
          },
          "metadata": {
            "needs_background": "light"
          }
        }
      ]
    },
    {
      "cell_type": "markdown",
      "source": [
        "This is a histrogram which shows the data between charges which ranges from 0-60000 in x axis and 0-500 in y axis."
      ],
      "metadata": {
        "id": "ajQCG8GtZBp1"
      }
    },
    {
      "cell_type": "code",
      "source": [
        "datareg['smoker'].hist()   "
      ],
      "metadata": {
        "colab": {
          "base_uri": "https://localhost:8080/",
          "height": 284
        },
        "id": "s2j5Aa43k67q",
        "outputId": "23d9437d-2916-414a-ef4d-f894636ad28d"
      },
      "execution_count": 8,
      "outputs": [
        {
          "output_type": "execute_result",
          "data": {
            "text/plain": [
              "<matplotlib.axes._subplots.AxesSubplot at 0x7f3c7298ebd0>"
            ]
          },
          "metadata": {},
          "execution_count": 8
        },
        {
          "output_type": "display_data",
          "data": {
            "image/png": "[encoded data removed]",
            "text/plain": [
              "<Figure size 432x288 with 1 Axes>"
            ]
          },
          "metadata": {
            "needs_background": "light"
          }
        }
      ]
    },
    {
      "cell_type": "markdown",
      "source": [
        "This is a Histogram i have used in my datasets for discribing the column smoker i have used in my datasets where we can clearly see that the number of smoker are very less and no of non smoker are lots. that a very good and positive result as the no of non smoker are more than 1000 and no of smoker are less than 400 ."
      ],
      "metadata": {
        "id": "k-SFRYK4mo3v"
      }
    },
    {
      "cell_type": "code",
      "source": [
        "datareg['region'].hist()   "
      ],
      "metadata": {
        "colab": {
          "base_uri": "https://localhost:8080/",
          "height": 284
        },
        "id": "8SrSBxoek_JD",
        "outputId": "03bd8619-9aca-4845-ea34-56183ba73720"
      },
      "execution_count": 9,
      "outputs": [
        {
          "output_type": "execute_result",
          "data": {
            "text/plain": [
              "<matplotlib.axes._subplots.AxesSubplot at 0x7f3c728fee50>"
            ]
          },
          "metadata": {},
          "execution_count": 9
        },
        {
          "output_type": "display_data",
          "data": {
            "image/png": "[encoded data removed]",
            "text/plain": [
              "<Figure size 432x288 with 1 Axes>"
            ]
          },
          "metadata": {
            "needs_background": "light"
          }
        }
      ]
    },
    {
      "cell_type": "markdown",
      "source": [
        "This is a Histogram of region column where i have descibe about the four different region i have used in my datasets i.e southwest, southeast, northwest and northeast. where we can see that the no of people ate southeast is more than other regiona and other three region has the similar number of people living over there."
      ],
      "metadata": {
        "id": "plEWdQtknBkv"
      }
    },
    {
      "cell_type": "code",
      "source": [
        "plt.figure(figsize = (18,10))\n",
        "ax = sns.boxplot(x=\"sex\" ,y=\"charges\", data=datareg, linewidth=2.5)\n",
        "plt.show()"
      ],
      "metadata": {
        "colab": {
          "base_uri": "https://localhost:8080/",
          "height": 606
        },
        "id": "IgQshJh0EDeF",
        "outputId": "4918a88b-ee75-4329-aec2-d3b6551d7ac0"
      },
      "execution_count": null,
      "outputs": [
        {
          "output_type": "display_data",
          "data": {
            "image/png": "[encoded data removed]",
            "text/plain": [
              "<Figure size 1296x720 with 1 Axes>"
            ]
          },
          "metadata": {
            "needs_background": "light"
          }
        }
      ]
    },
    {
      "cell_type": "markdown",
      "source": [
        "Box plots is a type of chart often used in explanatory data analysis. Box plots visually show the distribution of numerical data and skewness through displaying the data quartiles (or percentiles) and averages.\n",
        "This is a Box-plot which shows the data between male and female compared with the charges the final outcomes. While comparing the two variable male and female we can see that the average value of male is more than female which shows that the box plot of male is bigger than female in case of charges. which shows male has more charges than female."
      ],
      "metadata": {
        "id": "oTsQ5keGYYYd"
      }
    },
    {
      "cell_type": "code",
      "source": [
        "plt.figure(figsize = (18,10))\n",
        "ax = sns.boxplot(x=\"charges\" ,y=\"smoker\", data=datareg, linewidth=2.5)\n",
        "plt.show()"
      ],
      "metadata": {
        "colab": {
          "base_uri": "https://localhost:8080/",
          "height": 606
        },
        "id": "Ru2iG9SmUgt2",
        "outputId": "ba3e11a7-68b6-4952-f088-a93a60cf3dc6"
      },
      "execution_count": null,
      "outputs": [
        {
          "output_type": "display_data",
          "data": {
            "image/png": "[encoded data removed]",
            "text/plain": [
              "<Figure size 1296x720 with 1 Axes>"
            ]
          },
          "metadata": {
            "needs_background": "light"
          }
        }
      ]
    },
    {
      "cell_type": "markdown",
      "source": [
        "Box plots is a type of chart often used in explanatory data analysis. Box plots visually show the distribution of numerical data and skewness through displaying the data quartiles (or percentiles) and averages. where in this box plot we can see that the male has more charges value as compared to the female one.Where the box plot of female is very thin as compared to the average value of male in the case of charges.\n",
        "This is a box plot showing the data between where the blue one represents the smoker and light brown represents the non smoker . From the above box plot we can see that the average vale of smoker is more while comparing between two and it clearly shows the box plot of blue is greater than light brown."
      ],
      "metadata": {
        "id": "2aDwHPeVkVMk"
      }
    },
    {
      "cell_type": "code",
      "source": [
        "plt.figure(figsize = (18,10))\n",
        "ax = sns.boxplot(x=\"bmi\" ,y=\"region\", data=datareg, linewidth=2.5)\n",
        "plt.show()"
      ],
      "metadata": {
        "colab": {
          "base_uri": "https://localhost:8080/",
          "height": 606
        },
        "id": "FI92zYXyvv0R",
        "outputId": "b13d9d5f-8f04-4f10-ce93-bde3553944af"
      },
      "execution_count": null,
      "outputs": [
        {
          "output_type": "display_data",
          "data": {
            "image/png": "[encoded data removed]",
            "text/plain": [
              "<Figure size 1296x720 with 1 Axes>"
            ]
          },
          "metadata": {
            "needs_background": "light"
          }
        }
      ]
    },
    {
      "cell_type": "markdown",
      "source": [
        "Box plots is a type of chart often used in explanatory data analysis. Box plots visually show the distribution of numerical data and skewness through displaying the data quartiles (or percentiles) and averages.\n",
        "This is  boc-plot which shows the relationship between bmi and the four region. the firt southwest is blue in colour,south east is light brown in colour, northwest is green in colour and northeast is red in colour respectively.While comparing the average value of the region with the bmi it shows that the southeast has more average value and northeast and northwest has lowest one while southwest comes in middle in case of bmi and region value."
      ],
      "metadata": {
        "id": "2e317pHZbegk"
      }
    },
    {
      "cell_type": "code",
      "source": [
        "plt.figure(figsize = (15,8))\n",
        "ax = sns.boxplot(x=\"charges\" ,y=\"region\", data=datareg, linewidth=2.5)\n",
        "plt.show()"
      ],
      "metadata": {
        "colab": {
          "base_uri": "https://localhost:8080/",
          "height": 497
        },
        "id": "DrDUviyvDLfH",
        "outputId": "85caffdf-17fe-44bd-81bc-5d12bf141e5e"
      },
      "execution_count": 21,
      "outputs": [
        {
          "output_type": "display_data",
          "data": {
            "image/png": "[encoded data removed]",
            "text/plain": [
              "<Figure size 1080x576 with 1 Axes>"
            ]
          },
          "metadata": {
            "needs_background": "light"
          }
        }
      ]
    },
    {
      "cell_type": "markdown",
      "source": [
        "This is a box-plot which gives the information between region and charges where depending upon the region the charges varie from one other. from the above data we can clearly see that the average high charges among all 4 reason are northeast with the average of 10000 and other all 3 has the similar charges average."
      ],
      "metadata": {
        "id": "xXmzwpdAqDIw"
      }
    },
    {
      "cell_type": "code",
      "source": [
        "plt.figure(figsize = (18,10))\n",
        "ax = sns.boxplot(x=\"sex\" ,y=\"bmi\", data=datareg, linewidth=2.5)\n",
        "plt.show()"
      ],
      "metadata": {
        "colab": {
          "base_uri": "https://localhost:8080/",
          "height": 606
        },
        "id": "9GAy9MDzpzEv",
        "outputId": "aa36c744-21f5-4b86-cd4c-7c346c2668ae"
      },
      "execution_count": 24,
      "outputs": [
        {
          "output_type": "display_data",
          "data": {
            "image/png": "[encoded data removed]",
            "text/plain": [
              "<Figure size 1296x720 with 1 Axes>"
            ]
          },
          "metadata": {
            "needs_background": "light"
          }
        }
      ]
    },
    {
      "cell_type": "markdown",
      "source": [
        "This is a box-plot which shows the relation between sex and bmi. where the male and female data is different while comparing with bmi.while comparing the male and female value the average of male is slightly greater than female and male has greater average value than female."
      ],
      "metadata": {
        "id": "_QEI_YTra-m4"
      }
    },
    {
      "cell_type": "code",
      "source": [
        "#to see the composition of Specialisation\n",
        "out_datareg=pd.DataFrame(datareg.groupby('smoker')['smoker'].count())\n",
        "colors = ['#ff99aa','#2D885A']\n",
        "plt.pie(out_datareg['smoker'],labels=['0','1'],autopct='%.0f%%',colors=colors,radius=1,explode = (0, 0),shadow=True)\n",
        "plt.show()\n"
      ],
      "metadata": {
        "colab": {
          "base_uri": "https://localhost:8080/",
          "height": 248
        },
        "id": "tbm4f1HQrOWx",
        "outputId": "729d5490-2ed3-474f-82ba-4a14af54a92b"
      },
      "execution_count": 15,
      "outputs": [
        {
          "output_type": "display_data",
          "data": {
            "image/png": "[encoded data removed]",
            "text/plain": [
              "<Figure size 432x288 with 1 Axes>"
            ]
          },
          "metadata": {}
        }
      ]
    },
    {
      "cell_type": "markdown",
      "source": [
        "This is a pie chart which show the data of smoker comparing the yes and no statement. while comparing this pie chart we can see that there are more percentage of non smoker as compared to the smoker one. where the percentage of non smoker is 80% and remaining 20% is smoker which is a good result."
      ],
      "metadata": {
        "id": "V2zlK5RYc8ts"
      }
    },
    {
      "cell_type": "code",
      "source": [
        "#to see the composition of Specialisation\n",
        "out_datareg=pd.DataFrame(datareg.groupby('sex')['sex'].count())\n",
        "colors = ['#ff99aa','#6082B6']\n",
        "plt.pie(out_datareg['sex'],labels=['0','1'],autopct='%.0f%%',colors=colors,radius=1,explode = (0, 0),shadow=True)\n",
        "plt.show()"
      ],
      "metadata": {
        "colab": {
          "base_uri": "https://localhost:8080/",
          "height": 248
        },
        "id": "8kfEvd4Kng4H",
        "outputId": "8ecc260e-1c3b-4974-ab2e-d3bbb25e970f"
      },
      "execution_count": 11,
      "outputs": [
        {
          "output_type": "display_data",
          "data": {
            "image/png": "[encoded data removed]",
            "text/plain": [
              "<Figure size 432x288 with 1 Axes>"
            ]
          },
          "metadata": {}
        }
      ]
    },
    {
      "cell_type": "markdown",
      "source": [
        "This is a pie chart which gives the informations about the sex column i have used in my datasets where we can clearly see that the ratio of male and female are similarly same but the 1 i.e male has a little bit more percentage than female. where the % carried by male is 51% and female is 49%."
      ],
      "metadata": {
        "id": "Xd3WXplzqtXo"
      }
    },
    {
      "cell_type": "code",
      "source": [
        "#to see the composition of Specialisation\n",
        "out_datareg=pd.DataFrame(datareg.groupby('region')['region'].count())\n",
        "colors = ['#ff99aa','#6082B6', '#DD7596', '#8EB897']\n",
        "plt.pie(out_datareg['region'],labels=['0','1','2','3'],autopct='%.0f%%',colors=colors,radius=1,explode = (0, 0, 0, 0),shadow=True)\n",
        "plt.show()"
      ],
      "metadata": {
        "colab": {
          "base_uri": "https://localhost:8080/",
          "height": 248
        },
        "id": "cGjl3vazoTjY",
        "outputId": "00bb6707-e5e1-4b1a-a5c8-fc42b1239c57"
      },
      "execution_count": 16,
      "outputs": [
        {
          "output_type": "display_data",
          "data": {
            "image/png": "[encoded data removed]",
            "text/plain": [
              "<Figure size 432x288 with 1 Axes>"
            ]
          },
          "metadata": {}
        }
      ]
    },
    {
      "cell_type": "markdown",
      "source": [
        "This is a pie chart which gives the information between the regions i have used in my datasets where i have used the four region. among all these 4 region the 2 carries the maximum percentage with 27% and remaining all three carries the same percentage ratio of 24%."
      ],
      "metadata": {
        "id": "9wOvVEb1rRHa"
      }
    },
    {
      "cell_type": "code",
      "source": [
        "sns.heatmap(datareg.corr(),annot=True)"
      ],
      "metadata": {
        "colab": {
          "base_uri": "https://localhost:8080/",
          "height": 287
        },
        "id": "BAoCPQXCgwC2",
        "outputId": "e826b512-0644-434b-b30e-f45b9ee2f5f2"
      },
      "execution_count": null,
      "outputs": [
        {
          "output_type": "execute_result",
          "data": {
            "text/plain": [
              "<matplotlib.axes._subplots.AxesSubplot at 0x7f8c4c187250>"
            ]
          },
          "metadata": {},
          "execution_count": 51
        },
        {
          "output_type": "display_data",
          "data": {
            "image/png": "[encoded data removed]",
            "text/plain": [
              "<Figure size 432x288 with 2 Axes>"
            ]
          },
          "metadata": {
            "needs_background": "light"
          }
        }
      ]
    },
    {
      "cell_type": "markdown",
      "source": [
        "This the Correlation diagram which shows the data of age, bmi, children and charges at x axis and charges , children, bmi and age in Y axis."
      ],
      "metadata": {
        "id": "yczb5-YnThA9"
      }
    },
    {
      "cell_type": "code",
      "source": [
        "sns.heatmap(datareg.isnull(), yticklabels = False, cmap = \"GnBu\" )"
      ],
      "metadata": {
        "colab": {
          "base_uri": "https://localhost:8080/",
          "height": 318
        },
        "id": "aVixzPeJRo71",
        "outputId": "087e5161-70e5-4b29-9210-70dee1bee9a2"
      },
      "execution_count": null,
      "outputs": [
        {
          "output_type": "execute_result",
          "data": {
            "text/plain": [
              "<matplotlib.axes._subplots.AxesSubplot at 0x7f8c4c17ce90>"
            ]
          },
          "metadata": {},
          "execution_count": 52
        },
        {
          "output_type": "display_data",
          "data": {
            "image/png": "[encoded data removed]",
            "text/plain": [
              "<Figure size 432x288 with 2 Axes>"
            ]
          },
          "metadata": {
            "needs_background": "light"
          }
        }
      ]
    },
    {
      "cell_type": "markdown",
      "source": [
        "#3) data cleaning and Manipulation"
      ],
      "metadata": {
        "id": "ZdJ0zXK0eMJQ"
      }
    },
    {
      "cell_type": "markdown",
      "source": [
        "This is  a matplot lib which represents the heatmap using the following data age, sex, bmi, children, region and charges."
      ],
      "metadata": {
        "id": "u2QmtZ19g5bZ"
      }
    },
    {
      "cell_type": "markdown",
      "source": [
        "\n",
        "here i have remove some data from the datasets and change some data so that i acn get good result and accuracy."
      ],
      "metadata": {
        "id": "lSX1FQuAfJmk"
      }
    },
    {
      "cell_type": "code",
      "source": [
        "datareg.sex.unique()              # check the unique character"
      ],
      "metadata": {
        "colab": {
          "base_uri": "https://localhost:8080/"
        },
        "id": "vYksFsPKvYvg",
        "outputId": "726a343c-3fd5-46bb-de72-c945b207e4ea"
      },
      "execution_count": null,
      "outputs": [
        {
          "output_type": "execute_result",
          "data": {
            "text/plain": [
              "array(['female', 'male'], dtype=object)"
            ]
          },
          "metadata": {},
          "execution_count": 4
        }
      ]
    },
    {
      "cell_type": "markdown",
      "source": [
        "This function is used to check the unique character present or not in my datasets where we can clearly see that the sex datasets has the two character only male and female."
      ],
      "metadata": {
        "id": "XDrYjf0Fdax9"
      }
    },
    {
      "cell_type": "code",
      "source": [
        "datareg.sex = datareg.sex.map({\"male\":1, \"female\":0})          #this function is used to change the string value into float one."
      ],
      "metadata": {
        "id": "52BDLRmsuyT9"
      },
      "execution_count": null,
      "outputs": []
    },
    {
      "cell_type": "markdown",
      "source": [
        "I have used this functions to change my string values of sex datasets i.e male and female into float values 1 and o where the male represents the 1 and female represents the 0. I have used this datasets to fing the r 2 square beacuse while doing linear regression it doesnt take the string value for calculation."
      ],
      "metadata": {
        "id": "ifWvkDufd7gp"
      }
    },
    {
      "cell_type": "code",
      "source": [
        "datareg.smoker = datareg.smoker.map({\"yes\":1, \"no\":0})"
      ],
      "metadata": {
        "id": "6K9jisYmv8Ph"
      },
      "execution_count": null,
      "outputs": []
    },
    {
      "cell_type": "markdown",
      "source": [
        "I have used this functions to change my string values of smoker datasets i.e smoker(yes) and non-smoker(no) into float values 1 and o where the smoker represents the 1 and non-smoker represents the 0. I have used this datasets to fing the r 2 square beacuse while doing linear regression it doesnt take the string value for calculation."
      ],
      "metadata": {
        "id": "aLOz5vx3edK5"
      }
    },
    {
      "cell_type": "markdown",
      "source": [
        "# Dropping colum \"region\""
      ],
      "metadata": {
        "id": "YfMbDsDMiL5Q"
      }
    },
    {
      "cell_type": "code",
      "source": [
        " datareg.drop(['region', ], axis=1, inplace=True) #drop the colums"
      ],
      "metadata": {
        "id": "z2YdHpxZhXNZ"
      },
      "execution_count": null,
      "outputs": []
    },
    {
      "cell_type": "markdown",
      "source": [
        "For the preocess of data cleaning and finding the good accuracy i have used this drop function to drop the colums of regions after doing this the entire colums of region will de deleted completely."
      ],
      "metadata": {
        "id": "Cc6ykDWneuG8"
      }
    },
    {
      "cell_type": "code",
      "source": [
        "datareg.head()      # checking values after changing and droping "
      ],
      "metadata": {
        "colab": {
          "base_uri": "https://localhost:8080/",
          "height": 206
        },
        "id": "JJukMMj-iaYV",
        "outputId": "72a0a86f-3cf2-460a-d7e2-e3c4d4a74b0d"
      },
      "execution_count": null,
      "outputs": [
        {
          "output_type": "execute_result",
          "data": {
            "text/html": [
              "\n",
              "  <div id=\"df-a8afb8f4-6ec5-4706-8ccf-c593777a0368\">\n",
              "    <div class=\"colab-df-container\">\n",
              "      <div>\n",
              "<style scoped>\n",
              "    .dataframe tbody tr th:only-of-type {\n",
              "        vertical-align: middle;\n",
              "    }\n",
              "\n",
              "    .dataframe tbody tr th {\n",
              "        vertical-align: top;\n",
              "    }\n",
              "\n",
              "    .dataframe thead th {\n",
              "        text-align: right;\n",
              "    }\n",
              "</style>\n",
              "<table border=\"1\" class=\"dataframe\">\n",
              "  <thead>\n",
              "    <tr style=\"text-align: right;\">\n",
              "      <th></th>\n",
              "      <th>age</th>\n",
              "      <th>sex</th>\n",
              "      <th>bmi</th>\n",
              "      <th>children</th>\n",
              "      <th>smoker</th>\n",
              "      <th>charges</th>\n",
              "    </tr>\n",
              "  </thead>\n",
              "  <tbody>\n",
              "    <tr>\n",
              "      <th>0</th>\n",
              "      <td>19</td>\n",
              "      <td>0</td>\n",
              "      <td>27.900</td>\n",
              "      <td>0</td>\n",
              "      <td>1</td>\n",
              "      <td>16884.92400</td>\n",
              "    </tr>\n",
              "    <tr>\n",
              "      <th>1</th>\n",
              "      <td>18</td>\n",
              "      <td>1</td>\n",
              "      <td>33.770</td>\n",
              "      <td>1</td>\n",
              "      <td>0</td>\n",
              "      <td>1725.55230</td>\n",
              "    </tr>\n",
              "    <tr>\n",
              "      <th>2</th>\n",
              "      <td>28</td>\n",
              "      <td>1</td>\n",
              "      <td>33.000</td>\n",
              "      <td>3</td>\n",
              "      <td>0</td>\n",
              "      <td>4449.46200</td>\n",
              "    </tr>\n",
              "    <tr>\n",
              "      <th>3</th>\n",
              "      <td>33</td>\n",
              "      <td>1</td>\n",
              "      <td>22.705</td>\n",
              "      <td>0</td>\n",
              "      <td>0</td>\n",
              "      <td>21984.47061</td>\n",
              "    </tr>\n",
              "    <tr>\n",
              "      <th>4</th>\n",
              "      <td>32</td>\n",
              "      <td>1</td>\n",
              "      <td>28.880</td>\n",
              "      <td>0</td>\n",
              "      <td>0</td>\n",
              "      <td>3866.85520</td>\n",
              "    </tr>\n",
              "  </tbody>\n",
              "</table>\n",
              "</div>\n",
              "      <button class=\"colab-df-convert\" onclick=\"convertToInteractive('df-a8afb8f4-6ec5-4706-8ccf-c593777a0368')\"\n",
              "              title=\"Convert this dataframe to an interactive table.\"\n",
              "              style=\"display:none;\">\n",
              "        \n",
              "  <svg xmlns=\"http://www.w3.org/2000/svg\" height=\"24px\"viewBox=\"0 0 24 24\"\n",
              "       width=\"24px\">\n",
              "    <path d=\"M0 0h24v24H0V0z\" fill=\"none\"/>\n",
              "    <path d=\"M18.56 5.44l.94 2.06.94-2.06 2.06-.94-2.06-.94-.94-2.06-.94 2.06-2.06.94zm-11 1L8.5 8.5l.94-2.06 2.06-.94-2.06-.94L8.5 2.5l-.94 2.06-2.06.94zm10 10l.94 2.06.94-2.06 2.06-.94-2.06-.94-.94-2.06-.94 2.06-2.06.94z\"/><path d=\"M17.41 7.96l-1.37-1.37c-.4-.4-.92-.59-1.43-.59-.52 0-1.04.2-1.43.59L10.3 9.45l-7.72 7.72c-.78.78-.78 2.05 0 2.83L4 21.41c.39.39.9.59 1.41.59.51 0 1.02-.2 1.41-.59l7.78-7.78 2.81-2.81c.8-.78.8-2.07 0-2.86zM5.41 20L4 18.59l7.72-7.72 1.47 1.35L5.41 20z\"/>\n",
              "  </svg>\n",
              "      </button>\n",
              "      \n",
              "  <style>\n",
              "    .colab-df-container {\n",
              "      display:flex;\n",
              "      flex-wrap:wrap;\n",
              "      gap: 12px;\n",
              "    }\n",
              "\n",
              "    .colab-df-convert {\n",
              "      background-color: #E8F0FE;\n",
              "      border: none;\n",
              "      border-radius: 50%;\n",
              "      cursor: pointer;\n",
              "      display: none;\n",
              "      fill: #1967D2;\n",
              "      height: 32px;\n",
              "      padding: 0 0 0 0;\n",
              "      width: 32px;\n",
              "    }\n",
              "\n",
              "    .colab-df-convert:hover {\n",
              "      background-color: #E2EBFA;\n",
              "      box-shadow: 0px 1px 2px rgba(60, 64, 67, 0.3), 0px 1px 3px 1px rgba(60, 64, 67, 0.15);\n",
              "      fill: #174EA6;\n",
              "    }\n",
              "\n",
              "    [theme=dark] .colab-df-convert {\n",
              "      background-color: #3B4455;\n",
              "      fill: #D2E3FC;\n",
              "    }\n",
              "\n",
              "    [theme=dark] .colab-df-convert:hover {\n",
              "      background-color: #434B5C;\n",
              "      box-shadow: 0px 1px 3px 1px rgba(0, 0, 0, 0.15);\n",
              "      filter: drop-shadow(0px 1px 2px rgba(0, 0, 0, 0.3));\n",
              "      fill: #FFFFFF;\n",
              "    }\n",
              "  </style>\n",
              "\n",
              "      <script>\n",
              "        const buttonEl =\n",
              "          document.querySelector('#df-a8afb8f4-6ec5-4706-8ccf-c593777a0368 button.colab-df-convert');\n",
              "        buttonEl.style.display =\n",
              "          google.colab.kernel.accessAllowed ? 'block' : 'none';\n",
              "\n",
              "        async function convertToInteractive(key) {\n",
              "          const element = document.querySelector('#df-a8afb8f4-6ec5-4706-8ccf-c593777a0368');\n",
              "          const dataTable =\n",
              "            await google.colab.kernel.invokeFunction('convertToInteractive',\n",
              "                                                     [key], {});\n",
              "          if (!dataTable) return;\n",
              "\n",
              "          const docLinkHtml = 'Like what you see? Visit the ' +\n",
              "            '<a target=\"_blank\" href=https://colab.research.google.com/notebooks/data_table.ipynb>data table notebook</a>'\n",
              "            + ' to learn more about interactive tables.';\n",
              "          element.innerHTML = '';\n",
              "          dataTable['output_type'] = 'display_data';\n",
              "          await google.colab.output.renderOutput(dataTable, element);\n",
              "          const docLink = document.createElement('div');\n",
              "          docLink.innerHTML = docLinkHtml;\n",
              "          element.appendChild(docLink);\n",
              "        }\n",
              "      </script>\n",
              "    </div>\n",
              "  </div>\n",
              "  "
            ],
            "text/plain": [
              "   age  sex     bmi  children  smoker      charges\n",
              "0   19    0  27.900         0       1  16884.92400\n",
              "1   18    1  33.770         1       0   1725.55230\n",
              "2   28    1  33.000         3       0   4449.46200\n",
              "3   33    1  22.705         0       0  21984.47061\n",
              "4   32    1  28.880         0       0   3866.85520"
            ]
          },
          "metadata": {},
          "execution_count": 8
        }
      ]
    },
    {
      "cell_type": "code",
      "source": [
        "age = datareg['age'].values\n",
        "bmi = datareg['bmi'].values\n",
        "charges = datareg['charges'].values\n",
        "from mpl_toolkits.mplot3d import Axes3D\n",
        "# Ploting the scores as scatter plot\n",
        "fig = plt.figure()\n",
        "ax = Axes3D(fig)\n",
        "ax.scatter(age, bmi, charges, color='#ef1234')\n",
        "plt.show()"
      ],
      "metadata": {
        "colab": {
          "base_uri": "https://localhost:8080/",
          "height": 319
        },
        "id": "8q9yQk0lig3o",
        "outputId": "18dbca5d-cb8e-4053-992a-30aa5f0be275"
      },
      "execution_count": null,
      "outputs": [
        {
          "output_type": "display_data",
          "data": {
            "image/png": "[encoded data removed]",
            "text/plain": [
              "<Figure size 432x288 with 1 Axes>"
            ]
          },
          "metadata": {
            "needs_background": "light"
          }
        }
      ]
    },
    {
      "cell_type": "markdown",
      "source": [
        "This is a scatter plot where i have used the dependent variable charges as y axis and other two independent variables age and bmi as x axis. This is the scatter plot i have made using the 3 variables age, bmi and charges."
      ],
      "metadata": {
        "id": "_IyZvY0Zlkkv"
      }
    },
    {
      "cell_type": "markdown",
      "source": [
        "#4) Regression and Accuracy"
      ],
      "metadata": {
        "id": "HrP8dhe5eP1U"
      }
    },
    {
      "cell_type": "markdown",
      "source": [
        "\n",
        "here i have used the sklearn model import train_test_split for finding thex_train, x_test, y_train, y_test = train_test_split(x, y, test_size=0.2, random_state=0) and agin import preprocessing for standarad scaler and finally import linearRegression for accuracy and root mean square Error(rmse) and r 2 square for accuracy."
      ],
      "metadata": {
        "id": "kk7ViCrjg83Z"
      }
    },
    {
      "cell_type": "code",
      "source": [
        "# Dependent \n",
        "second = datareg['charges']"
      ],
      "metadata": {
        "id": "c5LXzqK5qo6J"
      },
      "execution_count": null,
      "outputs": []
    },
    {
      "cell_type": "markdown",
      "source": [
        "This is the dependent data of my datasets i have used.All other factors depends on it."
      ],
      "metadata": {
        "id": "kmgTCcE6jCWe"
      }
    },
    {
      "cell_type": "code",
      "source": [
        "# Independent \n",
        "first = datareg.drop(['charges'], axis = 1)\n",
        "print(first.shape)\n",
        "print(first.columns)"
      ],
      "metadata": {
        "colab": {
          "base_uri": "https://localhost:8080/"
        },
        "id": "btXlxQaSqwhi",
        "outputId": "a5cd1d42-6b13-4b90-95c4-0bed727d6270"
      },
      "execution_count": null,
      "outputs": [
        {
          "output_type": "stream",
          "name": "stdout",
          "text": [
            "(1338, 5)\n",
            "Index(['age', 'sex', 'bmi', 'children', 'smoker'], dtype='object')\n"
          ]
        }
      ]
    },
    {
      "cell_type": "markdown",
      "source": [
        "The independent variables after my i have droped the region are age, sex, bmi, children, smoker."
      ],
      "metadata": {
        "id": "3Xg24hN7jORv"
      }
    },
    {
      "cell_type": "code",
      "source": [
        "datareg.head() "
      ],
      "metadata": {
        "colab": {
          "base_uri": "https://localhost:8080/",
          "height": 206
        },
        "id": "TsTs10-oBb4r",
        "outputId": "73322bd9-c661-4f29-b833-c9e9467e6937"
      },
      "execution_count": null,
      "outputs": [
        {
          "output_type": "execute_result",
          "data": {
            "text/html": [
              "\n",
              "  <div id=\"df-db81987a-782f-46fa-b64f-442e5365fcd9\">\n",
              "    <div class=\"colab-df-container\">\n",
              "      <div>\n",
              "<style scoped>\n",
              "    .dataframe tbody tr th:only-of-type {\n",
              "        vertical-align: middle;\n",
              "    }\n",
              "\n",
              "    .dataframe tbody tr th {\n",
              "        vertical-align: top;\n",
              "    }\n",
              "\n",
              "    .dataframe thead th {\n",
              "        text-align: right;\n",
              "    }\n",
              "</style>\n",
              "<table border=\"1\" class=\"dataframe\">\n",
              "  <thead>\n",
              "    <tr style=\"text-align: right;\">\n",
              "      <th></th>\n",
              "      <th>age</th>\n",
              "      <th>sex</th>\n",
              "      <th>bmi</th>\n",
              "      <th>children</th>\n",
              "      <th>smoker</th>\n",
              "      <th>charges</th>\n",
              "    </tr>\n",
              "  </thead>\n",
              "  <tbody>\n",
              "    <tr>\n",
              "      <th>0</th>\n",
              "      <td>19</td>\n",
              "      <td>0</td>\n",
              "      <td>27.900</td>\n",
              "      <td>0</td>\n",
              "      <td>1</td>\n",
              "      <td>16884.92400</td>\n",
              "    </tr>\n",
              "    <tr>\n",
              "      <th>1</th>\n",
              "      <td>18</td>\n",
              "      <td>1</td>\n",
              "      <td>33.770</td>\n",
              "      <td>1</td>\n",
              "      <td>0</td>\n",
              "      <td>1725.55230</td>\n",
              "    </tr>\n",
              "    <tr>\n",
              "      <th>2</th>\n",
              "      <td>28</td>\n",
              "      <td>1</td>\n",
              "      <td>33.000</td>\n",
              "      <td>3</td>\n",
              "      <td>0</td>\n",
              "      <td>4449.46200</td>\n",
              "    </tr>\n",
              "    <tr>\n",
              "      <th>3</th>\n",
              "      <td>33</td>\n",
              "      <td>1</td>\n",
              "      <td>22.705</td>\n",
              "      <td>0</td>\n",
              "      <td>0</td>\n",
              "      <td>21984.47061</td>\n",
              "    </tr>\n",
              "    <tr>\n",
              "      <th>4</th>\n",
              "      <td>32</td>\n",
              "      <td>1</td>\n",
              "      <td>28.880</td>\n",
              "      <td>0</td>\n",
              "      <td>0</td>\n",
              "      <td>3866.85520</td>\n",
              "    </tr>\n",
              "  </tbody>\n",
              "</table>\n",
              "</div>\n",
              "      <button class=\"colab-df-convert\" onclick=\"convertToInteractive('df-db81987a-782f-46fa-b64f-442e5365fcd9')\"\n",
              "              title=\"Convert this dataframe to an interactive table.\"\n",
              "              style=\"display:none;\">\n",
              "        \n",
              "  <svg xmlns=\"http://www.w3.org/2000/svg\" height=\"24px\"viewBox=\"0 0 24 24\"\n",
              "       width=\"24px\">\n",
              "    <path d=\"M0 0h24v24H0V0z\" fill=\"none\"/>\n",
              "    <path d=\"M18.56 5.44l.94 2.06.94-2.06 2.06-.94-2.06-.94-.94-2.06-.94 2.06-2.06.94zm-11 1L8.5 8.5l.94-2.06 2.06-.94-2.06-.94L8.5 2.5l-.94 2.06-2.06.94zm10 10l.94 2.06.94-2.06 2.06-.94-2.06-.94-.94-2.06-.94 2.06-2.06.94z\"/><path d=\"M17.41 7.96l-1.37-1.37c-.4-.4-.92-.59-1.43-.59-.52 0-1.04.2-1.43.59L10.3 9.45l-7.72 7.72c-.78.78-.78 2.05 0 2.83L4 21.41c.39.39.9.59 1.41.59.51 0 1.02-.2 1.41-.59l7.78-7.78 2.81-2.81c.8-.78.8-2.07 0-2.86zM5.41 20L4 18.59l7.72-7.72 1.47 1.35L5.41 20z\"/>\n",
              "  </svg>\n",
              "      </button>\n",
              "      \n",
              "  <style>\n",
              "    .colab-df-container {\n",
              "      display:flex;\n",
              "      flex-wrap:wrap;\n",
              "      gap: 12px;\n",
              "    }\n",
              "\n",
              "    .colab-df-convert {\n",
              "      background-color: #E8F0FE;\n",
              "      border: none;\n",
              "      border-radius: 50%;\n",
              "      cursor: pointer;\n",
              "      display: none;\n",
              "      fill: #1967D2;\n",
              "      height: 32px;\n",
              "      padding: 0 0 0 0;\n",
              "      width: 32px;\n",
              "    }\n",
              "\n",
              "    .colab-df-convert:hover {\n",
              "      background-color: #E2EBFA;\n",
              "      box-shadow: 0px 1px 2px rgba(60, 64, 67, 0.3), 0px 1px 3px 1px rgba(60, 64, 67, 0.15);\n",
              "      fill: #174EA6;\n",
              "    }\n",
              "\n",
              "    [theme=dark] .colab-df-convert {\n",
              "      background-color: #3B4455;\n",
              "      fill: #D2E3FC;\n",
              "    }\n",
              "\n",
              "    [theme=dark] .colab-df-convert:hover {\n",
              "      background-color: #434B5C;\n",
              "      box-shadow: 0px 1px 3px 1px rgba(0, 0, 0, 0.15);\n",
              "      filter: drop-shadow(0px 1px 2px rgba(0, 0, 0, 0.3));\n",
              "      fill: #FFFFFF;\n",
              "    }\n",
              "  </style>\n",
              "\n",
              "      <script>\n",
              "        const buttonEl =\n",
              "          document.querySelector('#df-db81987a-782f-46fa-b64f-442e5365fcd9 button.colab-df-convert');\n",
              "        buttonEl.style.display =\n",
              "          google.colab.kernel.accessAllowed ? 'block' : 'none';\n",
              "\n",
              "        async function convertToInteractive(key) {\n",
              "          const element = document.querySelector('#df-db81987a-782f-46fa-b64f-442e5365fcd9');\n",
              "          const dataTable =\n",
              "            await google.colab.kernel.invokeFunction('convertToInteractive',\n",
              "                                                     [key], {});\n",
              "          if (!dataTable) return;\n",
              "\n",
              "          const docLinkHtml = 'Like what you see? Visit the ' +\n",
              "            '<a target=\"_blank\" href=https://colab.research.google.com/notebooks/data_table.ipynb>data table notebook</a>'\n",
              "            + ' to learn more about interactive tables.';\n",
              "          element.innerHTML = '';\n",
              "          dataTable['output_type'] = 'display_data';\n",
              "          await google.colab.output.renderOutput(dataTable, element);\n",
              "          const docLink = document.createElement('div');\n",
              "          docLink.innerHTML = docLinkHtml;\n",
              "          element.appendChild(docLink);\n",
              "        }\n",
              "      </script>\n",
              "    </div>\n",
              "  </div>\n",
              "  "
            ],
            "text/plain": [
              "   age  sex     bmi  children  smoker      charges\n",
              "0   19    0  27.900         0       1  16884.92400\n",
              "1   18    1  33.770         1       0   1725.55230\n",
              "2   28    1  33.000         3       0   4449.46200\n",
              "3   33    1  22.705         0       0  21984.47061\n",
              "4   32    1  28.880         0       0   3866.85520"
            ]
          },
          "metadata": {},
          "execution_count": 12
        }
      ]
    },
    {
      "cell_type": "markdown",
      "source": [
        "Checking my remaining colums of my datasets."
      ],
      "metadata": {
        "id": "6WAbncpaBd7c"
      }
    },
    {
      "cell_type": "code",
      "source": [
        "from sklearn.model_selection import train_test_split "
      ],
      "metadata": {
        "id": "T05bEpzlceJV"
      },
      "execution_count": null,
      "outputs": []
    },
    {
      "cell_type": "markdown",
      "source": [
        "Train_test_split is a function in Sklearn model selection for splitting data arrays into two subsets: for training data and for testing data."
      ],
      "metadata": {
        "id": "Mer01BMk-fnp"
      }
    },
    {
      "cell_type": "code",
      "source": [
        "first_train, first_test, second_train, second_test = train_test_split(first, second, test_size=0.2, random_state=0)\n",
        "\n",
        "print('Size of first_train = ', first_train.shape)\n",
        "print('Size of first_test  = ', first_test.shape)\n",
        "print('Size of second_train = ', second_train.shape)\n",
        "print('Size of second_test  = ', second_test.shape)"
      ],
      "metadata": {
        "colab": {
          "base_uri": "https://localhost:8080/"
        },
        "id": "gq-V-N3Ob4Us",
        "outputId": "d4b2ce14-9858-437c-eecf-30f1e6198354"
      },
      "execution_count": null,
      "outputs": [
        {
          "output_type": "stream",
          "name": "stdout",
          "text": [
            "Size of first_train =  (1070, 5)\n",
            "Size of first_test  =  (268, 5)\n",
            "Size of second_train =  (1070,)\n",
            "Size of second_test  =  (268,)\n"
          ]
        }
      ]
    },
    {
      "cell_type": "markdown",
      "source": [
        "for the process of testing and trainig the data we have first_train and second_train for training and first_test and second_test for testing the data respectively and i have used the test_size as 0.2 and state as 0."
      ],
      "metadata": {
        "id": "i3VSI2AK-jRk"
      }
    },
    {
      "cell_type": "code",
      "source": [
        "from sklearn.preprocessing import StandardScaler\n",
        "sc = StandardScaler()\n"
      ],
      "metadata": {
        "id": "Lfkj5nrtfUWl"
      },
      "execution_count": null,
      "outputs": []
    },
    {
      "cell_type": "markdown",
      "source": [
        "StandardScaler removes the mean and scales each feature/variable to unit variance. This operation is performed feature-wise in an independent way and i have used this for the task of preprocessing one."
      ],
      "metadata": {
        "id": "C2mYYyXY_DRb"
      }
    },
    {
      "cell_type": "code",
      "source": [
        "first_train = sc.fit_transform(first_train)\n",
        "first_test = sc.transform(first_test)\n"
      ],
      "metadata": {
        "id": "rZdCSq6ai7k3"
      },
      "execution_count": null,
      "outputs": []
    },
    {
      "cell_type": "markdown",
      "source": [
        "fit_transform() is used on the training data so that we can scale the training data and also learn the scaling parameters of that data and i have used it for training the data for first and used for first testing as well."
      ],
      "metadata": {
        "id": "gW109l_i_TzS"
      }
    },
    {
      "cell_type": "code",
      "source": [
        "from sklearn.linear_model import LinearRegression "
      ],
      "metadata": {
        "id": "2eMUm_Fsjb7e"
      },
      "execution_count": null,
      "outputs": []
    },
    {
      "cell_type": "markdown",
      "source": [
        "Linear Regression is a machine learning algorithm based on supervised learning. It performs a regression task. Regression models a target prediction value based on independent variables. It is mostly used for finding out the relationship between variables and forecasting."
      ],
      "metadata": {
        "id": "4NJsOIB4_oJ3"
      }
    },
    {
      "cell_type": "code",
      "source": [
        "model = LinearRegression()\n",
        "model.fit(first_train, second_train)\n",
        "\n",
        "second_predict = model.predict(first_test)"
      ],
      "metadata": {
        "id": "-kGcgwbpjfRN"
      },
      "execution_count": null,
      "outputs": []
    },
    {
      "cell_type": "markdown",
      "source": [
        "model.fit() Model fitting is a measure of how well a machine learning model generalizes to similar data to that on which it was trained and i have also find the second prediction for first test as well."
      ],
      "metadata": {
        "id": "Dj7Q0uVf_sWH"
      }
    },
    {
      "cell_type": "code",
      "source": [
        "from sklearn.metrics import mean_squared_error\n",
        "from sklearn.metrics import r2_score\n",
        "\n",
        "linreg = LinearRegression()\n",
        "linreg.fit(first_train, second_train)\n",
        "\n",
        "linreg_pred = linreg.predict(first_test)\n",
        "\n",
        "mse = mean_squared_error(second_test, linreg_pred)\n",
        "rmse = np.sqrt(mse)\n",
        "r2 = r2_score(second_test, linreg_pred)\n",
        "\n",
        "print(\"Root Mean Squared Error : \",rmse)\n",
        "print(\"r2Squared :\", r2)\n",
        "print(r2*100,\"% accurate\")"
      ],
      "metadata": {
        "id": "GN2xEAWnq-v2",
        "colab": {
          "base_uri": "https://localhost:8080/"
        },
        "outputId": "d2498559-7844-43d7-bbc6-cbfef2c244b9"
      },
      "execution_count": null,
      "outputs": [
        {
          "output_type": "stream",
          "name": "stdout",
          "text": [
            "Root Mean Squared Error :  5671.492452926755\n",
            "r2Squared : 0.7978644236809904\n",
            "79.78644236809905 % accurate\n"
          ]
        }
      ]
    },
    {
      "cell_type": "markdown",
      "source": [
        "Finally at the end by using the sklearn and iporting the mean_squared_error and r2_score i have find the actual values for rmse and r2square respectively and My accuracy of the r2square is 79.7864."
      ],
      "metadata": {
        "id": "LBjuUntcAHgT"
      }
    }
  ]
}